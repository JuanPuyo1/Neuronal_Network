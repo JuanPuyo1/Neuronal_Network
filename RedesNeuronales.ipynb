{
  "nbformat": 4,
  "nbformat_minor": 0,
  "metadata": {
    "colab": {
      "name": "RedesNeuronales.ipynb",
      "provenance": [],
      "toc_visible": true
    },
    "kernelspec": {
      "name": "python3",
      "display_name": "Python 3"
    },
    "language_info": {
      "name": "python"
    }
  },
  "cells": [
    {
      "cell_type": "markdown",
      "metadata": {
        "id": "2JXGjuEPy6Oe"
      },
      "source": [
        "Se empleará la biblioteca de Keras (biblioteca de Deep-learning para Python). Dicha biblioteca provee los envoltorios (wrappers) requeridos para la implementación, entrenamiento, validación y uso en producción de modelos de redes neuronales, en general, y Aprendizaje Profundo (Deep Learning) en particular, desarrollados sobre las rutinas de nivel más bajo de la biblioteca Tensorflow de Google (actualmente, se encuentran integrados)."
      ]
    },
    {
      "cell_type": "markdown",
      "metadata": {
        "id": "dS_HndtWy9RJ"
      },
      "source": [
        "# **Ejemplo básico: red feedforward para el problema del XOR**"
      ]
    },
    {
      "cell_type": "markdown",
      "metadata": {
        "id": "SSvIDJPezCYy"
      },
      "source": [
        "En este ejemplo, para mostrar los elementos del uso de Keras para crear y entrenar redes neuronales, se presenta el caso estudiado en las sesiones del curso: un perceptrón lineal por si solo no basta si se quieren usar redes neuronales para implementar un clasificador capaz de implementar una función lógica XOR (problema del XOR, figura de la derecha).\n",
        "\n",
        "\n",
        "Por ello, es necesario usar dos unidades que subdividan el espacio de características en tres regiones y luego una unidad de salida que integre las dos clasificaciones previas, con una arquitectura como la de la figura de la izquiera.\n",
        "\n",
        "Al margen: si se cuenta con una tarjeta gráfica NVidia, se puede comprobar que se está usando dicha tarjeta con Keras y Tensorflow de la siguiente manera."
      ]
    },
    {
      "cell_type": "code",
      "metadata": {
        "colab": {
          "base_uri": "https://localhost:8080/"
        },
        "id": "sDJq72Rzy0Dg",
        "outputId": "abd4701d-bf6c-4e91-9b6c-a2b7d5ea2e2f"
      },
      "source": [
        "import tensorflow as tf\n",
        "tf.config.list_physical_devices('GPU')"
      ],
      "execution_count": null,
      "outputs": [
        {
          "output_type": "execute_result",
          "data": {
            "text/plain": [
              "[]"
            ]
          },
          "metadata": {
            "tags": []
          },
          "execution_count": 2
        }
      ]
    },
    {
      "cell_type": "markdown",
      "metadata": {
        "id": "kiUiYIW5zflG"
      },
      "source": [
        "**Solución:**\n",
        "\n",
        "Para implementar la red Feedfoward se usa el modelo \"Sequential\" de Keras, en el cual las capas de una red tienen exactamente un vector de entrada y un vector de salida.\n",
        "\n",
        "Se usa la clase Dense que permite implementar capas completamente conectadas."
      ]
    },
    {
      "cell_type": "code",
      "metadata": {
        "id": "1tb-Rrm0zhwW"
      },
      "source": [
        "import numpy as np\n",
        "from keras.models import Sequential\n",
        "from keras.layers.core import Dense"
      ],
      "execution_count": null,
      "outputs": []
    },
    {
      "cell_type": "code",
      "metadata": {
        "id": "t8TsBZ5YzlK0"
      },
      "source": [
        "# the four different states of the XOR gate\n",
        "training_set = np.array([[0,0],[0,1],[1,0],[1,1]], \"float32\")\n",
        "\n",
        "# the four expected results in the same order\n",
        "labels = np.array([[0],[1],[1],[0]], \"float32\")"
      ],
      "execution_count": null,
      "outputs": []
    },
    {
      "cell_type": "code",
      "metadata": {
        "id": "QqnmYGjizl5s"
      },
      "source": [
        "#recordar, diferencia paramatro e hiperparamatro\n",
        "#parametro se modifican con el entrenamiento\n",
        "#hiperparametro no se modifica durante el entrenamiento\n",
        "#los parametros en la red neuronal, son los pesos aosicados a las conexiones en la red"
      ],
      "execution_count": null,
      "outputs": []
    },
    {
      "cell_type": "markdown",
      "metadata": {
        "id": "M7NFlvke1G6x"
      },
      "source": [
        "### Función de activación o no activación de una neurona, a través de sigmoide con 0 o 1"
      ]
    },
    {
      "cell_type": "markdown",
      "metadata": {
        "id": "BE9z-NoJ1mSV"
      },
      "source": [
        "- Se crea el modelo secuencial y se agregan las capas oculta y de salida de la red, usando las funciones de activación softmax\n",
        "\n",
        "- poner más unidades en la capa oculta puede acelerar la convergencia (p.ej. 5)\n",
        "- Una vez se ha definido la arquitectura, se usa la funcíon compile del modelo  para establecer la función de pérdida (loss, asociada al impacto del error en el desempeño de la red), el método de optimización (adam en este caso) y la métrica de precisión para el entrenamiento (_binaryaccuracy, dada la aplicación del modelo)\n",
        "- Por último, se usa la función fit para entrenar el modelo, en este caso, usando 800 épocas (iteraciones sobre el dataset).\n",
        "- El parámetro verbose permite controlar el detalle de la salida del método. Se puede poner a 0 para evitar una salida profusa."
      ]
    },
    {
      "cell_type": "code",
      "metadata": {
        "colab": {
          "base_uri": "https://localhost:8080/"
        },
        "id": "W5NfMYG_1yYT",
        "outputId": "c7386486-6948-4be3-f111-6990d9e993c7"
      },
      "source": [
        "xor_nn = Sequential()\n",
        "#capa densa de 4 y la entrada se hara a traveesde un vector de dimension 2\n",
        "xor_nn.add(Dense(6, input_dim=2, activation='softmax'))\n",
        "xor_nn.add(Dense(1, activation='sigmoid'))\n",
        "\n",
        "xor_nn.compile(loss='mean_squared_error',\n",
        "              optimizer='adam',\n",
        "              metrics=['binary_accuracy'])\n",
        "\n",
        "xor_nn.fit(training_set, labels, epochs=800, verbose=0)"
      ],
      "execution_count": null,
      "outputs": [
        {
          "output_type": "execute_result",
          "data": {
            "text/plain": [
              "<tensorflow.python.keras.callbacks.History at 0x7f04c4c4e990>"
            ]
          },
          "metadata": {
            "tags": []
          },
          "execution_count": 23
        }
      ]
    },
    {
      "cell_type": "code",
      "metadata": {
        "colab": {
          "base_uri": "https://localhost:8080/"
        },
        "id": "PBO1WTnd2o8F",
        "outputId": "8f897441-7de6-4da8-e0b0-791264630b1d"
      },
      "source": [
        "print(xor_nn.predict(training_set).round())"
      ],
      "execution_count": null,
      "outputs": [
        {
          "output_type": "stream",
          "text": [
            "[[0.]\n",
            " [1.]\n",
            " [1.]\n",
            " [0.]]\n"
          ],
          "name": "stdout"
        }
      ]
    },
    {
      "cell_type": "markdown",
      "metadata": {
        "id": "FRZAHkB83HgX"
      },
      "source": [
        "# **Ejemplo red neuronal**"
      ]
    },
    {
      "cell_type": "markdown",
      "metadata": {
        "id": "A66NHPxC3S4m"
      },
      "source": [
        "En este ejemplo, se usará una red neuronal convolucional como la del esquema para entrenar un modelo que permita clasificar el conocido dataset \"MNIST\" (caracteres escritos a mano entrenados con una base de datos del servicio postal de Estados Unidos). Este datset está constituido por regiones de interés extraídas de imágenes (ROIs) que contienen dígitos escritos a mano por múltiples usuarios, etiquetados con el valor numérico asociado a cada ROI.\n",
        "\n",
        "![1612358644015.jpg](data:image/jpeg;base64,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)\n",
        "\n",
        "Las redes neuronales convolucionales están dentro de los modelos más usados para la clasificación de información visual\n",
        "\n",
        "Se importa el dataset de MNIST desde la red usando keras y se asigna a los conjuntos de entrenamiento y prueba (ya están preestablecidos). Se usará una arquitectura secuencial con capas densas, convolucionales, de Pooling (submuestreo) y de regularización (Dropout). Este último evita el sobreajuste (overfitting) en el caso de las redes neuronales, favoreciendo la generalización:"
      ]
    },
    {
      "cell_type": "code",
      "metadata": {
        "colab": {
          "base_uri": "https://localhost:8080/"
        },
        "id": "FQghqQPI3PPh",
        "outputId": "66dc93b5-a983-4b17-e05a-7ae21bb8ff45"
      },
      "source": [
        "import matplotlib.pyplot as plt\n",
        "import tensorflow as tf\n",
        "import keras\n",
        "from sklearn.model_selection import cross_validate, KFold\n",
        "\n",
        "import numpy as np\n",
        "\n",
        "from keras.models import Sequential\n",
        "\n",
        "#CON DROPOUT SE ELIMINAN NEURONAS INNECESARIOS\n",
        "#DROPCONECT ELEIMINA CONEXIONES INNECESARIAS\n",
        "#FLATTEN PERMITE CONVERTIR MAATRIZ EN VECTOR\n",
        "from keras.layers import Dense, Conv2D, Dropout, Flatten, MaxPooling2D\n",
        "from keras.wrappers.scikit_learn import KerasClassifier\n",
        "\n",
        "(x_train, y_train), (x_test, y_test) = keras.datasets.mnist.load_data()"
      ],
      "execution_count": null,
      "outputs": [
        {
          "output_type": "stream",
          "text": [
            "Downloading data from https://storage.googleapis.com/tensorflow/tf-keras-datasets/mnist.npz\n",
            "11493376/11490434 [==============================] - 0s 0us/step\n"
          ],
          "name": "stdout"
        }
      ]
    },
    {
      "cell_type": "markdown",
      "metadata": {
        "id": "FmgNof1L51NX"
      },
      "source": [
        "Como se verá más aldeante, se usará un envoltorio (wrapper) de Keras para sklearn, de modo que se pueda ejecutar una validación cruzada. Se puede observar el contenido del dataset usando la función imshow de matplotlib para una ROI con un índice arbitrario dado (hasta 60,000)"
      ]
    },
    {
      "cell_type": "code",
      "metadata": {
        "colab": {
          "base_uri": "https://localhost:8080/",
          "height": 298
        },
        "id": "iGDcwJ7R5ywb",
        "outputId": "38656b42-1f8e-4357-f59b-0f78990ff771"
      },
      "source": [
        "dataset_idx = 11205 \n",
        "print(y_train[dataset_idx]) # The label is 8\n",
        "plt.imshow(x_train[dataset_idx], cmap='Greys')"
      ],
      "execution_count": null,
      "outputs": [
        {
          "output_type": "stream",
          "text": [
            "1\n"
          ],
          "name": "stdout"
        },
        {
          "output_type": "execute_result",
          "data": {
            "text/plain": [
              "<matplotlib.image.AxesImage at 0x7f04bba84e50>"
            ]
          },
          "metadata": {
            "tags": []
          },
          "execution_count": 26
        },
        {
          "output_type": "display_data",
          "data": {
            "image/png": "[encoded data removed]",
            "text/plain": [
              "<Figure size 432x288 with 1 Axes>"
            ]
          },
          "metadata": {
            "tags": [],
            "needs_background": "light"
          }
        }
      ]
    },
    {
      "cell_type": "code",
      "metadata": {
        "colab": {
          "base_uri": "https://localhost:8080/"
        },
        "id": "MxPh8P5Z6Ky2",
        "outputId": "b499cef1-6844-4f40-84ac-9414b0f35075"
      },
      "source": [
        "x_train.shape[0], 28, 28, 1"
      ],
      "execution_count": null,
      "outputs": [
        {
          "output_type": "execute_result",
          "data": {
            "text/plain": [
              "(60000, 28, 28, 1)"
            ]
          },
          "metadata": {
            "tags": []
          },
          "execution_count": 27
        }
      ]
    },
    {
      "cell_type": "markdown",
      "metadata": {
        "id": "ztTPA59-6Oam"
      },
      "source": [
        "- Para poder usar este dataset en Keras, es necesario ajustar la representación de los datos a 4 dimensiones (la primera dimensión es el número de imágenes -ROIs-, la última es la profundidad de color de las ROIs, 1 para escala de grises)\n",
        "\n",
        "- Así pues, las entradas tienen una única ROI. Todas las ROI se normalizarán a 28x28 (tamaño de la capa de entrada).\n",
        "\n",
        "- Los valores de intensidad se normalizarán al intervalo [0,1]. Por tal razón, todos los píxeles se dividen por 255."
      ]
    },
    {
      "cell_type": "code",
      "metadata": {
        "colab": {
          "base_uri": "https://localhost:8080/"
        },
        "id": "L1EB_OuU6RH4",
        "outputId": "7279ce87-c90d-4246-dc12-7b32d6006eca"
      },
      "source": [
        "x_train = x_train.reshape(x_train.shape[0], 28, 28, 1)\n",
        "x_test = x_test.reshape(x_test.shape[0], 28, 28, 1)\n",
        "#28 FILAS 8 COLUMNAS SOLO 1 CANAL\n",
        "#PARA REPRESENTAR SE PUEDE RGB, 3 CANALES\n",
        "input_shape = (28, 28, 1)\n",
        "\n",
        "x_train = x_train.astype('float32')\n",
        "x_test = x_test.astype('float32')\n",
        "\n",
        "#SE NORMALIZAN PARA TENER VALORES ENTRE 0 Y 1\n",
        "\n",
        "x_train /= 255\n",
        "x_test /= 255\n",
        "\n",
        "\n",
        "print('Tamaño del dataset de entrenamiento:', x_train.shape)\n",
        "print('Número de ROIs en x_train', x_train.shape[0])\n",
        "print('Número de ROIs en x_test', x_test.shape[0])"
      ],
      "execution_count": null,
      "outputs": [
        {
          "output_type": "stream",
          "text": [
            "Tamaño del dataset de entrenamiento: (60000, 28, 28, 1)\n",
            "Número de ROIs en x_train 60000\n",
            "Número de ROIs en x_test 10000\n"
          ],
          "name": "stdout"
        }
      ]
    },
    {
      "cell_type": "markdown",
      "metadata": {
        "id": "kS468N8z7BgD"
      },
      "source": [
        "# **Construcción del modelo de red neuronal convolucional**\n",
        "\n",
        "En esta actualización, se usará una función constructora para crear el modelo usando un envoltorio (wrapper) de Keras para skLearn. Por esta razón, se creará la red con su arquitectura mediante una funcíon constructora.\n",
        "\n",
        "Se usará solo una capa convolucional y una de Pooling (la versión MaxPooling usa el valor máximo para aplicar el submuestreo de regiones).\n",
        "\n",
        "El tamaño de la matriz de convolución es de \n",
        "3\n",
        "×\n",
        "3\n",
        ", el tamaño del filtro de submuestreo es \n",
        "2\n",
        "×\n",
        "2\n",
        ". La capa de salida usa una función de activación softmax."
      ]
    },
    {
      "cell_type": "code",
      "metadata": {
        "id": "QGmVH8p-7D0k"
      },
      "source": [
        "def create_model():\n",
        "    model = Sequential()\n",
        "    model.add(Conv2D(28, kernel_size=(3,3), input_shape=input_shape))\n",
        "    #tomar valor maximo\n",
        "    model.add(MaxPooling2D(pool_size=(2, 2)))\n",
        "\n",
        "    #aplanar a un vector unidemensional\n",
        "    model.add(Flatten()) \n",
        "\n",
        "    #capa densa de activacion\n",
        "    model.add(Dense(128, activation='relu'))\n",
        "    model.add(Dropout(0.2))\n",
        "\n",
        "    model.add(Dense(10,activation='softmax'))\n",
        "    model.compile(optimizer='adam', loss='sparse_categorical_crossentropy', metrics=['accuracy'])\n",
        "    return model"
      ],
      "execution_count": null,
      "outputs": []
    },
    {
      "cell_type": "markdown",
      "metadata": {
        "id": "95jQF1EB75MO"
      },
      "source": [
        "**Evaluación por Validación Cruzada**\n",
        "\n",
        "El modelo así construido se puede evaluar usando una estrategia de Validación Cruzada (Cross Validation) sobre el dataset de entrenamiento. Para poder usar SKlearn sobre un modelo construido con Keeras se usa el wrapper KerasClassifier, que recibe como parámetro el modelo secuencial generado por la función constructora, el número de épocas y si genera salida por consola (además de otros parámetros por defecto). Usualmente, el número de particiones es de 5 o 10 (5-Fold o 10-Fold Cross Validation). También suelen usarse más épocas (100, 250) en los procesos de exploración de parámetros."
      ]
    },
    {
      "cell_type": "code",
      "metadata": {
        "colab": {
          "base_uri": "https://localhost:8080/"
        },
        "id": "GLgp-RbI76ND",
        "outputId": "5e342f4c-6d13-43e2-d33e-adebbb30819c"
      },
      "source": [
        "neural_network = KerasClassifier(build_fn=create_model, verbose=1, epochs=5)\n",
        "kfold = KFold(n_splits=3, random_state=np.random.seed(7))\n",
        "\n",
        "results = cross_validate(neural_network,x_train, y_train, cv=3, scoring = ['accuracy'], return_train_score=True)"
      ],
      "execution_count": null,
      "outputs": [
        {
          "output_type": "stream",
          "text": [
            "Epoch 1/5\n",
            "1250/1250 [==============================] - 20s 16ms/step - loss: 2.3045 - accuracy: 0.1043\n",
            "Epoch 2/5\n",
            "1250/1250 [==============================] - 19s 16ms/step - loss: 2.3019 - accuracy: 0.1102\n",
            "Epoch 3/5\n",
            "1250/1250 [==============================] - 19s 16ms/step - loss: 2.3014 - accuracy: 0.1116\n",
            "Epoch 4/5\n",
            "1250/1250 [==============================] - 19s 15ms/step - loss: 2.3016 - accuracy: 0.1087\n",
            "Epoch 5/5\n",
            "1250/1250 [==============================] - 19s 15ms/step - loss: 2.3012 - accuracy: 0.1144\n",
            " 19/625 [..............................] - ETA: 3s"
          ],
          "name": "stdout"
        },
        {
          "output_type": "stream",
          "text": [
            "/usr/local/lib/python3.7/dist-packages/tensorflow/python/keras/engine/sequential.py:450: UserWarning: `model.predict_classes()` is deprecated and will be removed after 2021-01-01. Please use instead:* `np.argmax(model.predict(x), axis=-1)`,   if your model does multi-class classification   (e.g. if it uses a `softmax` last-layer activation).* `(model.predict(x) > 0.5).astype(\"int32\")`,   if your model does binary classification   (e.g. if it uses a `sigmoid` last-layer activation).\n",
            "  warnings.warn('`model.predict_classes()` is deprecated and '\n"
          ],
          "name": "stderr"
        },
        {
          "output_type": "stream",
          "text": [
            "625/625 [==============================] - 4s 6ms/step\n",
            "1250/1250 [==============================] - 7s 6ms/step\n",
            "Epoch 1/5\n",
            "1250/1250 [==============================] - 20s 15ms/step - loss: 2.3043 - accuracy: 0.1058\n",
            "Epoch 2/5\n",
            "1250/1250 [==============================] - 19s 16ms/step - loss: 2.3019 - accuracy: 0.1127\n",
            "Epoch 3/5\n",
            "1250/1250 [==============================] - 19s 15ms/step - loss: 2.3012 - accuracy: 0.1130\n",
            "Epoch 4/5\n",
            "1250/1250 [==============================] - 19s 15ms/step - loss: 2.3011 - accuracy: 0.1126\n",
            "Epoch 5/5\n",
            "1250/1250 [==============================] - 19s 15ms/step - loss: 2.3012 - accuracy: 0.1124\n",
            "625/625 [==============================] - 3s 5ms/step\n",
            "1250/1250 [==============================] - 7s 5ms/step\n",
            "Epoch 1/5\n",
            "1250/1250 [==============================] - 19s 15ms/step - loss: 2.3038 - accuracy: 0.1071\n",
            "Epoch 2/5\n",
            "1250/1250 [==============================] - 19s 15ms/step - loss: 2.3015 - accuracy: 0.1149\n",
            "Epoch 3/5\n",
            "1250/1250 [==============================] - 19s 15ms/step - loss: 2.3009 - accuracy: 0.1149\n",
            "Epoch 4/5\n",
            "1250/1250 [==============================] - 19s 15ms/step - loss: 2.3008 - accuracy: 0.1154\n",
            "Epoch 5/5\n",
            "1250/1250 [==============================] - 19s 15ms/step - loss: 2.3003 - accuracy: 0.1198\n",
            "625/625 [==============================] - 4s 6ms/step\n",
            "1250/1250 [==============================] - 7s 6ms/step\n"
          ],
          "name": "stdout"
        }
      ]
    },
    {
      "cell_type": "markdown",
      "metadata": {
        "id": "8ZZ1GgOb9RRN"
      },
      "source": [
        "# **Predicción (uso del modelo entrenado)**\n",
        "\n",
        "En este ejemplo, para el uso en predicción (clasificación de casos no usados en el entrenamiento, p.ej. en una aplicación en producción), se entrenará el modelo de clasificación con 5 épocas (este parámetro se puede cambiar)"
      ]
    },
    {
      "cell_type": "code",
      "metadata": {
        "colab": {
          "base_uri": "https://localhost:8080/"
        },
        "id": "z361J2-J9POU",
        "outputId": "4312c575-99f6-4ab1-f012-ac17d9a75964"
      },
      "source": [
        "neural_network.fit(x=x_train,y=y_train, epochs=5)"
      ],
      "execution_count": null,
      "outputs": [
        {
          "output_type": "stream",
          "text": [
            "Epoch 1/5\n",
            "1875/1875 [==============================] - 30s 16ms/step - loss: 2.3035 - accuracy: 0.1081\n",
            "Epoch 2/5\n",
            "1875/1875 [==============================] - 29s 16ms/step - loss: 2.3013 - accuracy: 0.1139\n",
            "Epoch 3/5\n",
            "1875/1875 [==============================] - 29s 15ms/step - loss: 2.3015 - accuracy: 0.1128\n",
            "Epoch 4/5\n",
            "1875/1875 [==============================] - 29s 16ms/step - loss: 2.3012 - accuracy: 0.1130\n",
            "Epoch 5/5\n",
            "1875/1875 [==============================] - 29s 16ms/step - loss: 2.3013 - accuracy: 0.1132\n"
          ],
          "name": "stdout"
        },
        {
          "output_type": "execute_result",
          "data": {
            "text/plain": [
              "<tensorflow.python.keras.callbacks.History at 0x7f04baa6c750>"
            ]
          },
          "metadata": {
            "tags": []
          },
          "execution_count": 35
        }
      ]
    },
    {
      "cell_type": "code",
      "metadata": {
        "colab": {
          "base_uri": "https://localhost:8080/",
          "height": 352
        },
        "id": "A9vwowet95PH",
        "outputId": "fd1a3aae-70d1-4439-9f49-4ab1ab33fdef"
      },
      "source": [
        "image_index = 1321\n",
        "plt.imshow(x_test[image_index].reshape(28, 28),cmap='Greys')\n",
        "\n",
        "prediction = neural_network.predict(x_test[image_index].reshape(1, 28, 28, 1))\n",
        "print(prediction)"
      ],
      "execution_count": null,
      "outputs": [
        {
          "output_type": "stream",
          "text": [
            "1/1 [==============================] - 0s 13ms/step\n",
            "[1]\n"
          ],
          "name": "stdout"
        },
        {
          "output_type": "stream",
          "text": [
            "/usr/local/lib/python3.7/dist-packages/tensorflow/python/keras/engine/sequential.py:450: UserWarning: `model.predict_classes()` is deprecated and will be removed after 2021-01-01. Please use instead:* `np.argmax(model.predict(x), axis=-1)`,   if your model does multi-class classification   (e.g. if it uses a `softmax` last-layer activation).* `(model.predict(x) > 0.5).astype(\"int32\")`,   if your model does binary classification   (e.g. if it uses a `sigmoid` last-layer activation).\n",
            "  warnings.warn('`model.predict_classes()` is deprecated and '\n"
          ],
          "name": "stderr"
        },
        {
          "output_type": "display_data",
          "data": {
            "image/png": "[encoded data removed]",
            "text/plain": [
              "<Figure size 432x288 with 1 Axes>"
            ]
          },
          "metadata": {
            "tags": [],
            "needs_background": "light"
          }
        }
      ]
    },
    {
      "cell_type": "markdown",
      "metadata": {
        "id": "uN3n78M_-FTZ"
      },
      "source": [
        "# **Redes recurrentes**\n",
        "\n",
        "Modelo LSTM para pronóstico en series de tiempo\n",
        "Las redes recurrentes son un modelo especialmente adecuado para abordar problemas relacionados con el análisis de series temporales (usualmente, problemas de regresión)\n",
        "\n",
        "Ejemplo: predicción del número de pasajeros en una aerolínea a partir de datos históricos de pasajeros. En este ejemplo sencillo, solo usaremos un paso hacia atrás (retroalimentación de un único valor de salida previo) para pronosticar el valor siguiente (ventana temporal=1)"
      ]
    },
    {
      "cell_type": "code",
      "metadata": {
        "id": "caOT7sYB-G4c"
      },
      "source": [
        "import numpy\n",
        "import matplotlib.pyplot as plt\n",
        "import pandas\n",
        "import math\n",
        "from keras.models import Sequential\n",
        "from keras.layers import Dense\n",
        "from keras.layers import LSTM\n",
        "from sklearn.preprocessing import MinMaxScaler\n",
        "#error cuadratico medio sobre la prediccion varios pasos adelante\n",
        "from sklearn.metrics import mean_squared_error"
      ],
      "execution_count": null,
      "outputs": []
    },
    {
      "cell_type": "code",
      "metadata": {
        "id": "ifnL5Lxr-lAy"
      },
      "source": [
        "# se inicia la semilla del módulo de números aleatorios de numpy\n",
        "numpy.random.seed(4)"
      ],
      "execution_count": null,
      "outputs": []
    },
    {
      "cell_type": "code",
      "metadata": {
        "colab": {
          "base_uri": "https://localhost:8080/",
          "height": 399
        },
        "id": "6sstxoQv_BPK",
        "outputId": "90c124de-500a-4aef-a442-cdb363cb5292"
      },
      "source": [
        "# se carga el dataset\n",
        "dataframe = pandas.read_csv('pasajeros.csv', usecols=[1], engine='python')\n",
        "dataset = dataframe.values\n",
        "dataset = dataset.astype('float32') #El tipo de dato es importante para el método de optimización\n",
        "\n",
        "dataframe.head(5)\n",
        "dataframe.info()\n",
        "\n",
        "plt.plot(dataset)\n",
        "plt.show()"
      ],
      "execution_count": null,
      "outputs": [
        {
          "output_type": "stream",
          "text": [
            "<class 'pandas.core.frame.DataFrame'>\n",
            "RangeIndex: 144 entries, 0 to 143\n",
            "Data columns (total 1 columns):\n",
            " #   Column      Non-Null Count  Dtype\n",
            "---  ------      --------------  -----\n",
            " 0   Passengers  144 non-null    int64\n",
            "dtypes: int64(1)\n",
            "memory usage: 1.2 KB\n"
          ],
          "name": "stdout"
        },
        {
          "output_type": "display_data",
          "data": {
            "image/png": "[encoded data removed]",
            "text/plain": [
              "<Figure size 432x288 with 1 Axes>"
            ]
          },
          "metadata": {
            "tags": [],
            "needs_background": "light"
          }
        }
      ]
    },
    {
      "cell_type": "code",
      "metadata": {
        "colab": {
          "base_uri": "https://localhost:8080/",
          "height": 265
        },
        "id": "UdzQ3Lfy_UI1",
        "outputId": "53bad20f-a29d-42bd-b697-c438cddaa307"
      },
      "source": [
        "# se normaliza el dataset a un intervalo 0 - 1\n",
        "scaler = MinMaxScaler(feature_range=(0, 1))\n",
        "dataset = scaler.fit_transform(dataset)\n",
        "plt.plot(dataset)\n",
        "plt.show()"
      ],
      "execution_count": null,
      "outputs": [
        {
          "output_type": "display_data",
          "data": {
            "image/png": "[encoded data removed]",
            "text/plain": [
              "<Figure size 432x288 with 1 Axes>"
            ]
          },
          "metadata": {
            "tags": [],
            "needs_background": "light"
          }
        }
      ]
    },
    {
      "cell_type": "code",
      "metadata": {
        "colab": {
          "base_uri": "https://localhost:8080/"
        },
        "id": "3b7TlMrd_U96",
        "outputId": "3a0793a4-8894-47ce-ea72-b4670e6d2a2f"
      },
      "source": [
        "#Partición para entrenamiento y prueba: se usará el 70 % del dataset para entrenamiento y el 30 % para pruebas\n",
        "\n",
        "train_size = int(len(dataset) * 0.70) \n",
        "test_size = len(dataset) - train_size\n",
        "train, test = dataset[0:train_size,:], dataset[train_size:len(dataset),:]\n",
        "print(\"Tamaño del dataset de entrenamiento: \",len(train),\"- Tamaño del dataset de prueba: \", len(test))"
      ],
      "execution_count": null,
      "outputs": [
        {
          "output_type": "stream",
          "text": [
            "Tamaño del dataset de entrenamiento:  100 - Tamaño del dataset de prueba:  44\n"
          ],
          "name": "stdout"
        }
      ]
    },
    {
      "cell_type": "markdown",
      "metadata": {
        "id": "itggifsn__Qx"
      },
      "source": [
        "Preparación de los datos:\n",
        "El dataset deberá convertirse a una estructura de datos apropiada para su uso en los modelos de redes neuronales (recurrentes en este caso) implementados en la biblioteca Keras.\n",
        "\n",
        "Como se usará solo 1 paso previo como retroalimentación del modelo recurrente, se crea una función que organiza los datos de entrada para que tengan esa salida previa como entrada, usando la variable lookback inicializada a 1."
      ]
    },
    {
      "cell_type": "code",
      "metadata": {
        "id": "UWPmqJQ8_8pP"
      },
      "source": [
        "def create_dataset(dataset, lookback=1):\n",
        "    dataX, dataY = [], [] # listas estándar de python\n",
        "    for i in range(len(dataset)-lookback-1): # agregar uno a uno los elementos de las listas\n",
        "        a = dataset[i:(i+lookback), 0]\n",
        "        dataX.append(a)\n",
        "        dataY.append(dataset[i + lookback, 0])\n",
        "    return numpy.array(dataX), numpy.array(dataY) #convertir las listas en arrays de numpy para retornarlas"
      ],
      "execution_count": null,
      "outputs": []
    },
    {
      "cell_type": "code",
      "metadata": {
        "id": "8NI6_yI6AD8K"
      },
      "source": [
        "lb = 1\n",
        "trainX, trainY = create_dataset(train, lb)\n",
        "testX, testY = create_dataset(test, lb)\n",
        "\n",
        "# modificar la forma de los vectores de entrada para que sea del tipo: [muestras, paso de tiempo, caracteísticas]\n",
        "trainX = numpy.reshape(trainX, (trainX.shape[0], 1, trainX.shape[1]))\n",
        "testX = numpy.reshape(testX, (testX.shape[0], 1, testX.shape[1]))"
      ],
      "execution_count": null,
      "outputs": []
    },
    {
      "cell_type": "markdown",
      "metadata": {
        "id": "-HSCATCjAHAX"
      },
      "source": [
        "Crear un modelo LTSM de una entrada, 4 unidades LSTM en una única capa oculta y una capa de salida de un único valor"
      ]
    },
    {
      "cell_type": "code",
      "metadata": {
        "id": "IHADMTHCAEle"
      },
      "source": [
        "model = Sequential()\n",
        "model.add(LSTM(4, input_shape=(1, lb)))\n",
        "model.add(Dense(1))\n",
        "model.compile(loss='mean_squared_error', optimizer='adam')"
      ],
      "execution_count": null,
      "outputs": []
    },
    {
      "cell_type": "code",
      "metadata": {
        "colab": {
          "base_uri": "https://localhost:8080/"
        },
        "id": "3os6n8NTAJYX",
        "outputId": "6e46dbd9-a497-4368-c6a6-1b93a912cc8b"
      },
      "source": [
        "model.fit(trainX, trainY, epochs=100, batch_size=1, verbose=1)"
      ],
      "execution_count": null,
      "outputs": [
        {
          "output_type": "stream",
          "text": [
            "Epoch 1/100\n",
            "98/98 [==============================] - 1s 1ms/step - loss: 0.0542\n",
            "Epoch 2/100\n",
            "98/98 [==============================] - 0s 1ms/step - loss: 0.0181\n",
            "Epoch 3/100\n",
            "98/98 [==============================] - 0s 1ms/step - loss: 0.0198\n",
            "Epoch 4/100\n",
            "98/98 [==============================] - 0s 1ms/step - loss: 0.0120\n",
            "Epoch 5/100\n",
            "98/98 [==============================] - 0s 1ms/step - loss: 0.0111\n",
            "Epoch 6/100\n",
            "98/98 [==============================] - 0s 1ms/step - loss: 0.0117\n",
            "Epoch 7/100\n",
            "98/98 [==============================] - 0s 1ms/step - loss: 0.0103\n",
            "Epoch 8/100\n",
            "98/98 [==============================] - 0s 1ms/step - loss: 0.0098\n",
            "Epoch 9/100\n",
            "98/98 [==============================] - 0s 1ms/step - loss: 0.0077\n",
            "Epoch 10/100\n",
            "98/98 [==============================] - 0s 1ms/step - loss: 0.0085\n",
            "Epoch 11/100\n",
            "98/98 [==============================] - 0s 1ms/step - loss: 0.0072\n",
            "Epoch 12/100\n",
            "98/98 [==============================] - 0s 1ms/step - loss: 0.0074\n",
            "Epoch 13/100\n",
            "98/98 [==============================] - 0s 1ms/step - loss: 0.0060\n",
            "Epoch 14/100\n",
            "98/98 [==============================] - 0s 1ms/step - loss: 0.0055\n",
            "Epoch 15/100\n",
            "98/98 [==============================] - 0s 1ms/step - loss: 0.0044\n",
            "Epoch 16/100\n",
            "98/98 [==============================] - 0s 1ms/step - loss: 0.0044\n",
            "Epoch 17/100\n",
            "98/98 [==============================] - 0s 1ms/step - loss: 0.0030\n",
            "Epoch 18/100\n",
            "98/98 [==============================] - 0s 1ms/step - loss: 0.0034\n",
            "Epoch 19/100\n",
            "98/98 [==============================] - 0s 1ms/step - loss: 0.0031\n",
            "Epoch 20/100\n",
            "98/98 [==============================] - 0s 1ms/step - loss: 0.0025\n",
            "Epoch 21/100\n",
            "98/98 [==============================] - 0s 1ms/step - loss: 0.0021\n",
            "Epoch 22/100\n",
            "98/98 [==============================] - 0s 1ms/step - loss: 0.0021\n",
            "Epoch 23/100\n",
            "98/98 [==============================] - 0s 1ms/step - loss: 0.0024\n",
            "Epoch 24/100\n",
            "98/98 [==============================] - 0s 1ms/step - loss: 0.0029\n",
            "Epoch 25/100\n",
            "98/98 [==============================] - 0s 1ms/step - loss: 0.0022\n",
            "Epoch 26/100\n",
            "98/98 [==============================] - 0s 1ms/step - loss: 0.0022\n",
            "Epoch 27/100\n",
            "98/98 [==============================] - 0s 1ms/step - loss: 0.0024\n",
            "Epoch 28/100\n",
            "98/98 [==============================] - 0s 1ms/step - loss: 0.0023\n",
            "Epoch 29/100\n",
            "98/98 [==============================] - 0s 1ms/step - loss: 0.0019\n",
            "Epoch 30/100\n",
            "98/98 [==============================] - 0s 1ms/step - loss: 0.0019\n",
            "Epoch 31/100\n",
            "98/98 [==============================] - 0s 1ms/step - loss: 0.0018\n",
            "Epoch 32/100\n",
            "98/98 [==============================] - 0s 1ms/step - loss: 0.0016\n",
            "Epoch 33/100\n",
            "98/98 [==============================] - 0s 1ms/step - loss: 0.0020\n",
            "Epoch 34/100\n",
            "98/98 [==============================] - 0s 1ms/step - loss: 0.0026\n",
            "Epoch 35/100\n",
            "98/98 [==============================] - 0s 1ms/step - loss: 0.0023\n",
            "Epoch 36/100\n",
            "98/98 [==============================] - 0s 1ms/step - loss: 0.0019\n",
            "Epoch 37/100\n",
            "98/98 [==============================] - 0s 1ms/step - loss: 0.0022\n",
            "Epoch 38/100\n",
            "98/98 [==============================] - 0s 1ms/step - loss: 0.0019\n",
            "Epoch 39/100\n",
            "98/98 [==============================] - 0s 1ms/step - loss: 0.0023\n",
            "Epoch 40/100\n",
            "98/98 [==============================] - 0s 1ms/step - loss: 0.0022\n",
            "Epoch 41/100\n",
            "98/98 [==============================] - 0s 1ms/step - loss: 0.0028\n",
            "Epoch 42/100\n",
            "98/98 [==============================] - 0s 1ms/step - loss: 0.0018\n",
            "Epoch 43/100\n",
            "98/98 [==============================] - 0s 1ms/step - loss: 0.0024\n",
            "Epoch 44/100\n",
            "98/98 [==============================] - 0s 1ms/step - loss: 0.0019\n",
            "Epoch 45/100\n",
            "98/98 [==============================] - 0s 1ms/step - loss: 0.0023\n",
            "Epoch 46/100\n",
            "98/98 [==============================] - 0s 1ms/step - loss: 0.0019\n",
            "Epoch 47/100\n",
            "98/98 [==============================] - 0s 1ms/step - loss: 0.0023\n",
            "Epoch 48/100\n",
            "98/98 [==============================] - 0s 1ms/step - loss: 0.0017\n",
            "Epoch 49/100\n",
            "98/98 [==============================] - 0s 1ms/step - loss: 0.0021\n",
            "Epoch 50/100\n",
            "98/98 [==============================] - 0s 1ms/step - loss: 0.0019\n",
            "Epoch 51/100\n",
            "98/98 [==============================] - 0s 1ms/step - loss: 0.0025\n",
            "Epoch 52/100\n",
            "98/98 [==============================] - 0s 1ms/step - loss: 0.0021\n",
            "Epoch 53/100\n",
            "98/98 [==============================] - 0s 2ms/step - loss: 0.0022\n",
            "Epoch 54/100\n",
            "98/98 [==============================] - 0s 1ms/step - loss: 0.0022\n",
            "Epoch 55/100\n",
            "98/98 [==============================] - 0s 1ms/step - loss: 0.0020\n",
            "Epoch 56/100\n",
            "98/98 [==============================] - 0s 1ms/step - loss: 0.0022\n",
            "Epoch 57/100\n",
            "98/98 [==============================] - 0s 1ms/step - loss: 0.0022\n",
            "Epoch 58/100\n",
            "98/98 [==============================] - 0s 1ms/step - loss: 0.0015\n",
            "Epoch 59/100\n",
            "98/98 [==============================] - 0s 1ms/step - loss: 0.0021\n",
            "Epoch 60/100\n",
            "98/98 [==============================] - 0s 1ms/step - loss: 0.0017\n",
            "Epoch 61/100\n",
            "98/98 [==============================] - 0s 1ms/step - loss: 0.0023\n",
            "Epoch 62/100\n",
            "98/98 [==============================] - 0s 1ms/step - loss: 0.0023\n",
            "Epoch 63/100\n",
            "98/98 [==============================] - 0s 1ms/step - loss: 0.0022\n",
            "Epoch 64/100\n",
            "98/98 [==============================] - 0s 1ms/step - loss: 0.0027\n",
            "Epoch 65/100\n",
            "98/98 [==============================] - 0s 1ms/step - loss: 0.0016\n",
            "Epoch 66/100\n",
            "98/98 [==============================] - 0s 1ms/step - loss: 0.0017\n",
            "Epoch 67/100\n",
            "98/98 [==============================] - 0s 1ms/step - loss: 0.0018\n",
            "Epoch 68/100\n",
            "98/98 [==============================] - 0s 1ms/step - loss: 0.0017\n",
            "Epoch 69/100\n",
            "98/98 [==============================] - 0s 1ms/step - loss: 0.0022\n",
            "Epoch 70/100\n",
            "98/98 [==============================] - 0s 1ms/step - loss: 0.0019\n",
            "Epoch 71/100\n",
            "98/98 [==============================] - 0s 1ms/step - loss: 0.0023\n",
            "Epoch 72/100\n",
            "98/98 [==============================] - 0s 1ms/step - loss: 0.0021\n",
            "Epoch 73/100\n",
            "98/98 [==============================] - 0s 1ms/step - loss: 0.0026\n",
            "Epoch 74/100\n",
            "98/98 [==============================] - 0s 1ms/step - loss: 0.0016\n",
            "Epoch 75/100\n",
            "98/98 [==============================] - 0s 1ms/step - loss: 0.0027\n",
            "Epoch 76/100\n",
            "98/98 [==============================] - 0s 1ms/step - loss: 0.0023\n",
            "Epoch 77/100\n",
            "98/98 [==============================] - 0s 1ms/step - loss: 0.0025\n",
            "Epoch 78/100\n",
            "98/98 [==============================] - 0s 1ms/step - loss: 0.0023\n",
            "Epoch 79/100\n",
            "98/98 [==============================] - 0s 1ms/step - loss: 0.0020\n",
            "Epoch 80/100\n",
            "98/98 [==============================] - 0s 1ms/step - loss: 0.0020\n",
            "Epoch 81/100\n",
            "98/98 [==============================] - 0s 1ms/step - loss: 0.0023\n",
            "Epoch 82/100\n",
            "98/98 [==============================] - 0s 1ms/step - loss: 0.0024\n",
            "Epoch 83/100\n",
            "98/98 [==============================] - 0s 1ms/step - loss: 0.0017\n",
            "Epoch 84/100\n",
            "98/98 [==============================] - 0s 1ms/step - loss: 0.0018\n",
            "Epoch 85/100\n",
            "98/98 [==============================] - 0s 1ms/step - loss: 0.0025\n",
            "Epoch 86/100\n",
            "98/98 [==============================] - 0s 1ms/step - loss: 0.0020\n",
            "Epoch 87/100\n",
            "98/98 [==============================] - 0s 1ms/step - loss: 0.0022\n",
            "Epoch 88/100\n",
            "98/98 [==============================] - 0s 1ms/step - loss: 0.0017\n",
            "Epoch 89/100\n",
            "98/98 [==============================] - 0s 1ms/step - loss: 0.0018\n",
            "Epoch 90/100\n",
            "98/98 [==============================] - 0s 1ms/step - loss: 0.0022\n",
            "Epoch 91/100\n",
            "98/98 [==============================] - 0s 1ms/step - loss: 0.0022\n",
            "Epoch 92/100\n",
            "98/98 [==============================] - 0s 1ms/step - loss: 0.0015\n",
            "Epoch 93/100\n",
            "98/98 [==============================] - 0s 1ms/step - loss: 0.0018\n",
            "Epoch 94/100\n",
            "98/98 [==============================] - 0s 1ms/step - loss: 0.0023\n",
            "Epoch 95/100\n",
            "98/98 [==============================] - 0s 1ms/step - loss: 0.0018\n",
            "Epoch 96/100\n",
            "98/98 [==============================] - 0s 1ms/step - loss: 0.0022\n",
            "Epoch 97/100\n",
            "98/98 [==============================] - 0s 1ms/step - loss: 0.0022\n",
            "Epoch 98/100\n",
            "98/98 [==============================] - 0s 1ms/step - loss: 0.0023\n",
            "Epoch 99/100\n",
            "98/98 [==============================] - 0s 1ms/step - loss: 0.0022\n",
            "Epoch 100/100\n",
            "98/98 [==============================] - 0s 1ms/step - loss: 0.0023\n"
          ],
          "name": "stdout"
        },
        {
          "output_type": "execute_result",
          "data": {
            "text/plain": [
              "<tensorflow.python.keras.callbacks.History at 0x7f04b8a4c110>"
            ]
          },
          "metadata": {
            "tags": []
          },
          "execution_count": 60
        }
      ]
    },
    {
      "cell_type": "code",
      "metadata": {
        "id": "Pt4H2SGPARkX"
      },
      "source": [
        "#Obtener las predicciones que arroja el modelo entrenado:\n",
        "\n",
        "trainPredict = model.predict(trainX)\n",
        "testPredict = model.predict(testX)"
      ],
      "execution_count": null,
      "outputs": []
    },
    {
      "cell_type": "code",
      "metadata": {
        "colab": {
          "base_uri": "https://localhost:8080/"
        },
        "id": "HBVbzsV4AVMv",
        "outputId": "d0384b0c-90f9-4459-f598-57f9c191f5f0"
      },
      "source": [
        "#Error del pronóstico: Se calculan los errores RMSE (raíz del error medio cuadrático)\n",
        "\n",
        "# invertir las predicciones para entrenamiento y prueba\n",
        "trainPredict = scaler.inverse_transform(trainPredict)\n",
        "trainY = scaler.inverse_transform([trainY])\n",
        "testPredict = scaler.inverse_transform(testPredict)\n",
        "testY = scaler.inverse_transform([testY])\n",
        "\n",
        "# calcular el error del pronóstico \n",
        "trainScore = math.sqrt(mean_squared_error(trainY[0], trainPredict[:,0]))\n",
        "print('Train Score: %.2f RMSE' % (trainScore))\n",
        "testScore = math.sqrt(mean_squared_error(testY[0], testPredict[:,0]))\n",
        "print('Test Score: %.2f RMSE' % (testScore))"
      ],
      "execution_count": null,
      "outputs": [
        {
          "output_type": "stream",
          "text": [
            "Train Score: 23.28 RMSE\n",
            "Test Score: 49.73 RMSE\n"
          ],
          "name": "stdout"
        }
      ]
    },
    {
      "cell_type": "markdown",
      "metadata": {
        "id": "U2pGG_HcAZ3i"
      },
      "source": [
        "Graficar el resultado: se deben desplazar los valores pronosticados para tiempos posteriores a aquellos del dataset de entrenamiento"
      ]
    },
    {
      "cell_type": "code",
      "metadata": {
        "colab": {
          "base_uri": "https://localhost:8080/",
          "height": 265
        },
        "id": "UFmX2cXcAYhO",
        "outputId": "98b57ea4-b86f-4b6f-944f-ba59ddc4cc45"
      },
      "source": [
        "trainPredictPlot = numpy.empty_like(dataset)\n",
        "trainPredictPlot[:, :] = numpy.nan\n",
        "trainPredictPlot[lb:len(trainPredict)+lb, :] = trainPredict\n",
        "\n",
        "testPredictPlot = numpy.empty_like(dataset)\n",
        "testPredictPlot[:, :] = numpy.nan\n",
        "testPredictPlot[len(trainPredict)+(lb*2)+1:len(dataset)-1, :] = testPredict\n",
        "\n",
        "# Ahora, se pueden graficar los valores de entrenamiento y los valores pronosticados vs. los valores reales observados\n",
        "plt.plot(scaler.inverse_transform(dataset))\n",
        "plt.plot(trainPredictPlot)\n",
        "plt.plot(testPredictPlot)\n",
        "plt.show()"
      ],
      "execution_count": null,
      "outputs": [
        {
          "output_type": "display_data",
          "data": {
            "image/png": "[encoded data removed]",
            "text/plain": [
              "<Figure size 432x288 with 1 Axes>"
            ]
          },
          "metadata": {
            "tags": [],
            "needs_background": "light"
          }
        }
      ]
    }
  ]
}